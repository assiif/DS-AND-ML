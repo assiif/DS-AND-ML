{
 "cells": [
  {
   "cell_type": "markdown",
   "id": "149d1ac5",
   "metadata": {},
   "source": [
    "# FACE MASK DETECTOR"
   ]
  },
  {
   "cell_type": "code",
   "execution_count": 1,
   "id": "90f8052c",
   "metadata": {},
   "outputs": [],
   "source": [
    "import pandas as pd\n",
    "import matplotlib.pyplot as plt\n",
    "%matplotlib inline\n",
    "import numpy as np"
   ]
  },
  {
   "cell_type": "code",
   "execution_count": 2,
   "id": "e6145380",
   "metadata": {},
   "outputs": [],
   "source": [
    "import tensorflow as tf\n",
    "from tensorflow import keras"
   ]
  },
  {
   "cell_type": "code",
   "execution_count": 3,
   "id": "ba078364",
   "metadata": {},
   "outputs": [],
   "source": [
    "train_dir=r'E:\\PROJECT\\Final_Assignment_Face Mask Dataset\\Train'\n",
    "validation_dir=r'E:\\PROJECT\\Final_Assignment_Face Mask Dataset\\Validation'\n",
    "test_dir=r'E:\\PROJECT\\Final_Assignment_Face Mask Dataset\\Test'"
   ]
  },
  {
   "cell_type": "markdown",
   "id": "1fd4e601",
   "metadata": {},
   "source": [
    "# DATA AUGMENTATION"
   ]
  },
  {
   "cell_type": "code",
   "execution_count": 4,
   "id": "5ba32681",
   "metadata": {},
   "outputs": [],
   "source": [
    "from tensorflow.keras.preprocessing.image import ImageDataGenerator\n",
    "\n",
    "train_gen=ImageDataGenerator(rescale=1./255,\n",
    "                            rotation_range=50,\n",
    "                            width_shift_range=0.2,\n",
    "                            height_shift_range=0.2,\n",
    "                            zoom_range=0.2,\n",
    "                             shear_range=0.2,\n",
    "                            horizontal_flip=True)\n",
    "\n",
    "test_gen=ImageDataGenerator(rescale=1./255)"
   ]
  },
  {
   "cell_type": "code",
   "execution_count": 5,
   "id": "1228c9ec",
   "metadata": {},
   "outputs": [
    {
     "name": "stdout",
     "output_type": "stream",
     "text": [
      "Found 10000 images belonging to 2 classes.\n",
      "Found 800 images belonging to 2 classes.\n"
     ]
    }
   ],
   "source": [
    "train_generator=train_gen.flow_from_directory(train_dir,\n",
    "                                             target_size=(64,64),\n",
    "                                             batch_size=100,\n",
    "                                             class_mode='binary')\n",
    "validation_generator=test_gen.flow_from_directory(validation_dir,\n",
    "                                                 target_size=(64,64),\n",
    "                                                 batch_size=16,\n",
    "                                                 class_mode='binary')"
   ]
  },
  {
   "cell_type": "code",
   "execution_count": 6,
   "id": "c78bea3a",
   "metadata": {},
   "outputs": [],
   "source": [
    "from tensorflow.keras import layers\n",
    "from tensorflow.keras import models\n",
    "from tensorflow.keras.applications import VGG16"
   ]
  },
  {
   "cell_type": "markdown",
   "id": "8c28d1c3",
   "metadata": {},
   "source": [
    "# MODEL ARCHITECTURE"
   ]
  },
  {
   "cell_type": "code",
   "execution_count": 7,
   "id": "33cf2a44",
   "metadata": {},
   "outputs": [],
   "source": [
    "conv_lay=VGG16(weights='imagenet',\n",
    "              include_top=False,\n",
    "              input_shape=(64,64,3))"
   ]
  },
  {
   "cell_type": "code",
   "execution_count": 8,
   "id": "029bf012",
   "metadata": {},
   "outputs": [
    {
     "name": "stdout",
     "output_type": "stream",
     "text": [
      "Model: \"vgg16\"\n",
      "_________________________________________________________________\n",
      " Layer (type)                Output Shape              Param #   \n",
      "=================================================================\n",
      " input_1 (InputLayer)        [(None, 64, 64, 3)]       0         \n",
      "                                                                 \n",
      " block1_conv1 (Conv2D)       (None, 64, 64, 64)        1792      \n",
      "                                                                 \n",
      " block1_conv2 (Conv2D)       (None, 64, 64, 64)        36928     \n",
      "                                                                 \n",
      " block1_pool (MaxPooling2D)  (None, 32, 32, 64)        0         \n",
      "                                                                 \n",
      " block2_conv1 (Conv2D)       (None, 32, 32, 128)       73856     \n",
      "                                                                 \n",
      " block2_conv2 (Conv2D)       (None, 32, 32, 128)       147584    \n",
      "                                                                 \n",
      " block2_pool (MaxPooling2D)  (None, 16, 16, 128)       0         \n",
      "                                                                 \n",
      " block3_conv1 (Conv2D)       (None, 16, 16, 256)       295168    \n",
      "                                                                 \n",
      " block3_conv2 (Conv2D)       (None, 16, 16, 256)       590080    \n",
      "                                                                 \n",
      " block3_conv3 (Conv2D)       (None, 16, 16, 256)       590080    \n",
      "                                                                 \n",
      " block3_pool (MaxPooling2D)  (None, 8, 8, 256)         0         \n",
      "                                                                 \n",
      " block4_conv1 (Conv2D)       (None, 8, 8, 512)         1180160   \n",
      "                                                                 \n",
      " block4_conv2 (Conv2D)       (None, 8, 8, 512)         2359808   \n",
      "                                                                 \n",
      " block4_conv3 (Conv2D)       (None, 8, 8, 512)         2359808   \n",
      "                                                                 \n",
      " block4_pool (MaxPooling2D)  (None, 4, 4, 512)         0         \n",
      "                                                                 \n",
      " block5_conv1 (Conv2D)       (None, 4, 4, 512)         2359808   \n",
      "                                                                 \n",
      " block5_conv2 (Conv2D)       (None, 4, 4, 512)         2359808   \n",
      "                                                                 \n",
      " block5_conv3 (Conv2D)       (None, 4, 4, 512)         2359808   \n",
      "                                                                 \n",
      " block5_pool (MaxPooling2D)  (None, 2, 2, 512)         0         \n",
      "                                                                 \n",
      "=================================================================\n",
      "Total params: 14714688 (56.13 MB)\n",
      "Trainable params: 14714688 (56.13 MB)\n",
      "Non-trainable params: 0 (0.00 Byte)\n",
      "_________________________________________________________________\n"
     ]
    }
   ],
   "source": [
    "conv_lay.summary()"
   ]
  },
  {
   "cell_type": "code",
   "execution_count": 9,
   "id": "cf2c5fe8",
   "metadata": {},
   "outputs": [],
   "source": [
    "model=models.Sequential()\n",
    "model.add(conv_lay)\n",
    "model.add(layers.Flatten())\n",
    "model.add(layers.Dense(256,activation='relu'))\n",
    "model.add(layers.Dense(1,activation='sigmoid'))"
   ]
  },
  {
   "cell_type": "code",
   "execution_count": 10,
   "id": "f17f3aeb",
   "metadata": {},
   "outputs": [],
   "source": [
    "from tensorflow.keras import optimizers\n",
    "\n",
    "model.compile(loss='binary_crossentropy',\n",
    "             optimizer=optimizers.RMSprop(learning_rate=1e-4),\n",
    "             metrics=['acc'])"
   ]
  },
  {
   "cell_type": "code",
   "execution_count": 11,
   "id": "e297ca2b",
   "metadata": {},
   "outputs": [],
   "source": [
    "es=keras.callbacks.EarlyStopping(patience=5,restore_best_weights=True)\n",
    "cb=keras.callbacks.ModelCheckpoint(\"Model_mask.keras\",save_best_model=True)"
   ]
  },
  {
   "cell_type": "markdown",
   "id": "78e65a20",
   "metadata": {},
   "source": [
    "# MODEL TRAINING"
   ]
  },
  {
   "cell_type": "code",
   "execution_count": 12,
   "id": "2ab7bd66",
   "metadata": {},
   "outputs": [
    {
     "name": "stdout",
     "output_type": "stream",
     "text": [
      "Epoch 1/30\n",
      "100/100 [==============================] - 491s 5s/step - loss: 0.4687 - acc: 0.7563 - val_loss: 0.0301 - val_acc: 0.9875\n",
      "Epoch 2/30\n",
      "100/100 [==============================] - 485s 5s/step - loss: 0.1019 - acc: 0.9609 - val_loss: 0.0229 - val_acc: 0.9925\n",
      "Epoch 3/30\n",
      "100/100 [==============================] - 484s 5s/step - loss: 0.0736 - acc: 0.9738 - val_loss: 0.0143 - val_acc: 0.9975\n",
      "Epoch 4/30\n",
      "100/100 [==============================] - 484s 5s/step - loss: 0.0412 - acc: 0.9859 - val_loss: 0.0105 - val_acc: 0.9975\n",
      "Epoch 5/30\n",
      "100/100 [==============================] - 485s 5s/step - loss: 0.0436 - acc: 0.9839 - val_loss: 0.0187 - val_acc: 0.9937\n",
      "Epoch 6/30\n",
      "100/100 [==============================] - 487s 5s/step - loss: 0.0261 - acc: 0.9909 - val_loss: 0.0100 - val_acc: 0.9962\n",
      "Epoch 7/30\n",
      "100/100 [==============================] - 483s 5s/step - loss: 0.0181 - acc: 0.9938 - val_loss: 0.0068 - val_acc: 0.9975\n",
      "Epoch 8/30\n",
      "100/100 [==============================] - 490s 5s/step - loss: 0.0236 - acc: 0.9921 - val_loss: 0.0040 - val_acc: 0.9975\n",
      "Epoch 9/30\n",
      "100/100 [==============================] - 485s 5s/step - loss: 0.0153 - acc: 0.9952 - val_loss: 0.0136 - val_acc: 0.9975\n",
      "Epoch 10/30\n",
      "100/100 [==============================] - 486s 5s/step - loss: 0.0159 - acc: 0.9945 - val_loss: 0.0020 - val_acc: 0.9987\n",
      "Epoch 11/30\n",
      "100/100 [==============================] - 483s 5s/step - loss: 0.0146 - acc: 0.9954 - val_loss: 0.0572 - val_acc: 0.9825\n",
      "Epoch 12/30\n",
      "100/100 [==============================] - 482s 5s/step - loss: 0.0114 - acc: 0.9959 - val_loss: 0.0232 - val_acc: 0.9975\n",
      "Epoch 13/30\n",
      "100/100 [==============================] - 483s 5s/step - loss: 0.0102 - acc: 0.9968 - val_loss: 0.0065 - val_acc: 0.9975\n",
      "Epoch 14/30\n",
      "100/100 [==============================] - 485s 5s/step - loss: 0.0094 - acc: 0.9969 - val_loss: 0.0094 - val_acc: 0.9987\n",
      "Epoch 15/30\n",
      "100/100 [==============================] - 485s 5s/step - loss: 0.0100 - acc: 0.9965 - val_loss: 0.0165 - val_acc: 0.9975\n"
     ]
    }
   ],
   "source": [
    "his=model.fit(train_generator,\n",
    "         steps_per_epoch=100,\n",
    "         epochs=30,\n",
    "         validation_data=validation_generator,\n",
    "         validation_steps=50,\n",
    "         callbacks=[es,cb])"
   ]
  },
  {
   "cell_type": "code",
   "execution_count": 13,
   "id": "a950fe4e",
   "metadata": {},
   "outputs": [
    {
     "data": {
      "image/png": "[encoded data removed]",
      "text/plain": [
       "<Figure size 800x500 with 1 Axes>"
      ]
     },
     "metadata": {},
     "output_type": "display_data"
    }
   ],
   "source": [
    "pd.DataFrame(his.history).plot(figsize=(8,5))\n",
    "plt.grid(True)\n",
    "plt.gca().set_ylim(0,1)\n",
    "plt.show()"
   ]
  },
  {
   "cell_type": "markdown",
   "id": "e9a0f85f",
   "metadata": {},
   "source": [
    "# MODEL TESTING"
   ]
  },
  {
   "cell_type": "code",
   "execution_count": 14,
   "id": "f1722b15",
   "metadata": {},
   "outputs": [
    {
     "name": "stdout",
     "output_type": "stream",
     "text": [
      "Found 992 images belonging to 2 classes.\n"
     ]
    }
   ],
   "source": [
    "test_generator=test_gen.flow_from_directory(test_dir,\n",
    "                                           target_size=(64,64),\n",
    "                                           batch_size=20,\n",
    "                                           class_mode='binary')"
   ]
  },
  {
   "cell_type": "code",
   "execution_count": 15,
   "id": "e8e4a002",
   "metadata": {},
   "outputs": [
    {
     "name": "stdout",
     "output_type": "stream",
     "text": [
      "50/50 [==============================] - 8s 155ms/step - loss: 0.0061 - acc: 0.9970\n"
     ]
    },
    {
     "data": {
      "text/plain": [
       "[0.006108259316533804, 0.9969757795333862]"
      ]
     },
     "execution_count": 15,
     "metadata": {},
     "output_type": "execute_result"
    }
   ],
   "source": [
    "model.evaluate(test_generator,steps=50)"
   ]
  }
 ],
 "metadata": {
  "kernelspec": {
   "display_name": "Python 3 (ipykernel)",
   "language": "python",
   "name": "python3"
  },
  "language_info": {
   "codemirror_mode": {
    "name": "ipython",
    "version": 3
   },
   "file_extension": ".py",
   "mimetype": "text/x-python",
   "name": "python",
   "nbconvert_exporter": "python",
   "pygments_lexer": "ipython3",
   "version": "3.9.13"
  }
 },
 "nbformat": 4,
 "nbformat_minor": 5
}
