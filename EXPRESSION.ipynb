{
 "cells": [
  {
   "cell_type": "markdown",
   "id": "25ddd5ff",
   "metadata": {},
   "source": [
    "# EXPRESSION CLASSIFIER"
   ]
  },
  {
   "cell_type": "code",
   "execution_count": 30,
   "id": "9568c78d",
   "metadata": {},
   "outputs": [],
   "source": [
    "import splitfolders\n",
    "import os"
   ]
  },
  {
   "cell_type": "code",
   "execution_count": 31,
   "id": "a247908c",
   "metadata": {},
   "outputs": [
    {
     "name": "stdout",
     "output_type": "stream",
     "text": [
      "['happy', 'neutral', 'sad', 'surprise']\n"
     ]
    }
   ],
   "source": [
    "mpath=\"D:\\PROJECT\\p1\"\n",
    "print(os.listdir(mpath))"
   ]
  },
  {
   "cell_type": "markdown",
   "id": "44c67efd",
   "metadata": {},
   "source": [
    "## Splitting the files for Test,Train and Validation"
   ]
  },
  {
   "cell_type": "code",
   "execution_count": 28,
   "id": "f66ce99b",
   "metadata": {},
   "outputs": [
    {
     "name": "stderr",
     "output_type": "stream",
     "text": [
      "Copying files: 32298 files [16:21, 32.92 files/s]\n"
     ]
    }
   ],
   "source": [
    "splitfolders.ratio(mpath,seed=1337,output=\"Expressions\",ratio=(0.7,0.3,0))"
   ]
  },
  {
   "cell_type": "code",
   "execution_count": 50,
   "id": "771c050c",
   "metadata": {},
   "outputs": [],
   "source": [
    "import pandas as pd\n",
    "import numpy as np\n",
    "import matplotlib.pyplot as plt\n",
    "%matplotlib inline"
   ]
  },
  {
   "cell_type": "code",
   "execution_count": 51,
   "id": "d0836a23",
   "metadata": {},
   "outputs": [],
   "source": [
    "import tensorflow as tf\n",
    "from tensorflow import keras"
   ]
  },
  {
   "cell_type": "code",
   "execution_count": 52,
   "id": "84ae50cc",
   "metadata": {},
   "outputs": [],
   "source": [
    "train_dir=r\"D:\\PROJECT\\Exp_project\\train\"\n",
    "validation_dir=r\"D:\\PROJECT\\Exp_project\\val\"\n",
    "test_dir=r\"D:\\PROJECT\\Exp_project\\test\""
   ]
  },
  {
   "cell_type": "markdown",
   "id": "f67c98a5",
   "metadata": {},
   "source": [
    "# Data Preprocessing"
   ]
  },
  {
   "cell_type": "code",
   "execution_count": 53,
   "id": "cca9f079",
   "metadata": {},
   "outputs": [],
   "source": [
    "from tensorflow.keras.preprocessing.image import ImageDataGenerator"
   ]
  },
  {
   "cell_type": "code",
   "execution_count": 54,
   "id": "abd2e740",
   "metadata": {},
   "outputs": [],
   "source": [
    "train_gen=ImageDataGenerator(rescale=1./255,\n",
    "                                  horizontal_flip=True)\n",
    "test_gen=ImageDataGenerator(rescale=1./255)"
   ]
  },
  {
   "cell_type": "code",
   "execution_count": 55,
   "id": "5c4f7ae8",
   "metadata": {},
   "outputs": [
    {
     "name": "stdout",
     "output_type": "stream",
     "text": [
      "Found 10378 images belonging to 4 classes.\n",
      "Found 5188 images belonging to 4 classes.\n"
     ]
    }
   ],
   "source": [
    "train_generator=train_gen.flow_from_directory(train_dir,\n",
    "                                             target_size=(96,96),\n",
    "                                             batch_size=100,\n",
    "                                             class_mode=\"sparse\")\n",
    "validation_generator=test_gen.flow_from_directory(validation_dir,\n",
    "                                                 target_size=(96,96),\n",
    "                                                 batch_size=50,\n",
    "                                                 class_mode=\"sparse\")"
   ]
  },
  {
   "cell_type": "markdown",
   "id": "a9f78ccc",
   "metadata": {},
   "source": [
    "# Model Architecture"
   ]
  },
  {
   "cell_type": "code",
   "execution_count": 56,
   "id": "a52ce0d9",
   "metadata": {},
   "outputs": [],
   "source": [
    "from tensorflow.keras import layers\n",
    "from tensorflow.keras import models\n",
    "from tensorflow.keras.applications import inception_v3\n",
    "from tensorflow.keras.applications import VGG16\n",
    "from tensorflow.keras.applications import ResNet50"
   ]
  },
  {
   "cell_type": "code",
   "execution_count": 57,
   "id": "183d3d73",
   "metadata": {},
   "outputs": [],
   "source": [
    "conv=VGG16(weights=\"imagenet\",\n",
    "           include_top=False,\n",
    "           input_shape=(96,96,3))"
   ]
  },
  {
   "cell_type": "code",
   "execution_count": 58,
   "id": "5d1fc849",
   "metadata": {},
   "outputs": [
    {
     "name": "stdout",
     "output_type": "stream",
     "text": [
      "Model: \"vgg16\"\n",
      "_________________________________________________________________\n",
      " Layer (type)                Output Shape              Param #   \n",
      "=================================================================\n",
      " input_3 (InputLayer)        [(None, 96, 96, 3)]       0         \n",
      "                                                                 \n",
      " block1_conv1 (Conv2D)       (None, 96, 96, 64)        1792      \n",
      "                                                                 \n",
      " block1_conv2 (Conv2D)       (None, 96, 96, 64)        36928     \n",
      "                                                                 \n",
      " block1_pool (MaxPooling2D)  (None, 48, 48, 64)        0         \n",
      "                                                                 \n",
      " block2_conv1 (Conv2D)       (None, 48, 48, 128)       73856     \n",
      "                                                                 \n",
      " block2_conv2 (Conv2D)       (None, 48, 48, 128)       147584    \n",
      "                                                                 \n",
      " block2_pool (MaxPooling2D)  (None, 24, 24, 128)       0         \n",
      "                                                                 \n",
      " block3_conv1 (Conv2D)       (None, 24, 24, 256)       295168    \n",
      "                                                                 \n",
      " block3_conv2 (Conv2D)       (None, 24, 24, 256)       590080    \n",
      "                                                                 \n",
      " block3_conv3 (Conv2D)       (None, 24, 24, 256)       590080    \n",
      "                                                                 \n",
      " block3_pool (MaxPooling2D)  (None, 12, 12, 256)       0         \n",
      "                                                                 \n",
      " block4_conv1 (Conv2D)       (None, 12, 12, 512)       1180160   \n",
      "                                                                 \n",
      " block4_conv2 (Conv2D)       (None, 12, 12, 512)       2359808   \n",
      "                                                                 \n",
      " block4_conv3 (Conv2D)       (None, 12, 12, 512)       2359808   \n",
      "                                                                 \n",
      " block4_pool (MaxPooling2D)  (None, 6, 6, 512)         0         \n",
      "                                                                 \n",
      " block5_conv1 (Conv2D)       (None, 6, 6, 512)         2359808   \n",
      "                                                                 \n",
      " block5_conv2 (Conv2D)       (None, 6, 6, 512)         2359808   \n",
      "                                                                 \n",
      " block5_conv3 (Conv2D)       (None, 6, 6, 512)         2359808   \n",
      "                                                                 \n",
      " block5_pool (MaxPooling2D)  (None, 3, 3, 512)         0         \n",
      "                                                                 \n",
      "=================================================================\n",
      "Total params: 14714688 (56.13 MB)\n",
      "Trainable params: 14714688 (56.13 MB)\n",
      "Non-trainable params: 0 (0.00 Byte)\n",
      "_________________________________________________________________\n"
     ]
    }
   ],
   "source": [
    "conv.summary()"
   ]
  },
  {
   "cell_type": "code",
   "execution_count": 59,
   "id": "3c89abf0",
   "metadata": {},
   "outputs": [],
   "source": [
    "model=models.Sequential()\n",
    "model.add(conv)\n",
    "model.add(layers.Flatten())\n",
    "model.add(layers.Dropout(0.3))\n",
    "model.add(layers.Dense(256,activation='relu'))\n",
    "model.add(layers.Dropout(0.3))\n",
    "model.add(layers.Dense(4,activation='softmax'))"
   ]
  },
  {
   "cell_type": "code",
   "execution_count": 60,
   "id": "59b0337a",
   "metadata": {},
   "outputs": [],
   "source": [
    "from keras import optimizers\n",
    "model.compile(loss='sparse_categorical_crossentropy',\n",
    "             optimizer=optimizers.RMSprop(learning_rate=1e-4),\n",
    "             metrics=['acc'])"
   ]
  },
  {
   "cell_type": "code",
   "execution_count": 61,
   "id": "7bd91e74",
   "metadata": {},
   "outputs": [],
   "source": [
    "cb=keras.callbacks.ModelCheckpoint(\"Expression_prjt.keras\",save_best_model=True)\n",
    "es=keras.callbacks.EarlyStopping(patience=4,restore_best_weights=True)"
   ]
  },
  {
   "cell_type": "markdown",
   "id": "3dde9ae2",
   "metadata": {},
   "source": [
    "# Model Training"
   ]
  },
  {
   "cell_type": "code",
   "execution_count": 62,
   "id": "b184ddf1",
   "metadata": {
    "scrolled": true
   },
   "outputs": [
    {
     "name": "stdout",
     "output_type": "stream",
     "text": [
      "Epoch 1/30\n",
      "103/103 [==============================] - 1179s 11s/step - loss: 1.3232 - acc: 0.3411 - val_loss: 1.2366 - val_acc: 0.4437\n",
      "Epoch 2/30\n",
      "103/103 [==============================] - 1076s 10s/step - loss: 0.8601 - acc: 0.6009 - val_loss: 0.6286 - val_acc: 0.7631\n",
      "Epoch 3/30\n",
      "103/103 [==============================] - 1028s 10s/step - loss: 0.5837 - acc: 0.7668 - val_loss: 0.7147 - val_acc: 0.7353\n",
      "Epoch 4/30\n",
      "103/103 [==============================] - 1024s 10s/step - loss: 0.4913 - acc: 0.8123 - val_loss: 0.4263 - val_acc: 0.8268\n",
      "Epoch 5/30\n",
      "103/103 [==============================] - 1003s 10s/step - loss: 0.4022 - acc: 0.8430 - val_loss: 0.4049 - val_acc: 0.8421\n",
      "Epoch 6/30\n",
      "103/103 [==============================] - 1003s 10s/step - loss: 0.3619 - acc: 0.8617 - val_loss: 0.3359 - val_acc: 0.8697\n",
      "Epoch 7/30\n",
      "103/103 [==============================] - 1006s 10s/step - loss: 0.3223 - acc: 0.8802 - val_loss: 0.3256 - val_acc: 0.8765\n",
      "Epoch 8/30\n",
      "103/103 [==============================] - 1016s 10s/step - loss: 0.2891 - acc: 0.8927 - val_loss: 0.3274 - val_acc: 0.8726\n",
      "Epoch 9/30\n",
      "103/103 [==============================] - 1004s 10s/step - loss: 0.2589 - acc: 0.9066 - val_loss: 0.3211 - val_acc: 0.8816\n",
      "Epoch 10/30\n",
      "103/103 [==============================] - 1000s 10s/step - loss: 0.2258 - acc: 0.9174 - val_loss: 0.4538 - val_acc: 0.8421\n",
      "Epoch 11/30\n",
      "103/103 [==============================] - 1000s 10s/step - loss: 0.2062 - acc: 0.9251 - val_loss: 0.3726 - val_acc: 0.8761\n",
      "Epoch 12/30\n",
      "103/103 [==============================] - 1001s 10s/step - loss: 0.1823 - acc: 0.9358 - val_loss: 0.3830 - val_acc: 0.8695\n",
      "Epoch 13/30\n",
      "103/103 [==============================] - 1000s 10s/step - loss: 0.1537 - acc: 0.9457 - val_loss: 0.5834 - val_acc: 0.8383\n"
     ]
    }
   ],
   "source": [
    "his=model.fit(train_generator,\n",
    "         steps_per_epoch=103,\n",
    "         epochs=30,\n",
    "         validation_data=validation_generator,\n",
    "         validation_steps=103,\n",
    "          callbacks=[cb,es]) "
   ]
  },
  {
   "cell_type": "markdown",
   "id": "cb6312eb",
   "metadata": {},
   "source": [
    "# Data Visualisation"
   ]
  },
  {
   "cell_type": "code",
   "execution_count": 63,
   "id": "22611c36",
   "metadata": {},
   "outputs": [
    {
     "data": {
      "text/plain": [
       "[]"
      ]
     },
     "execution_count": 63,
     "metadata": {},
     "output_type": "execute_result"
    },
    {
     "data": {
      "image/png": "[encoded data removed]",
      "text/plain": [
       "<Figure size 800x500 with 1 Axes>"
      ]
     },
     "metadata": {},
     "output_type": "display_data"
    }
   ],
   "source": [
    "pd.DataFrame(his.history).plot(figsize=(8,5))\n",
    "plt.grid(True)\n",
    "plt.gca().set_ylim(0,1)\n",
    "plt.plot()"
   ]
  },
  {
   "cell_type": "markdown",
   "id": "9859dc80",
   "metadata": {},
   "source": [
    "# Model Testing"
   ]
  },
  {
   "cell_type": "code",
   "execution_count": 64,
   "id": "df1c7341",
   "metadata": {},
   "outputs": [
    {
     "name": "stdout",
     "output_type": "stream",
     "text": [
      "Found 1734 images belonging to 4 classes.\n"
     ]
    }
   ],
   "source": [
    "test_generator=test_gen.flow_from_directory(test_dir,\n",
    "                                           target_size=(96,96),\n",
    "                                           class_mode='sparse')"
   ]
  },
  {
   "cell_type": "code",
   "execution_count": 65,
   "id": "27a442b6",
   "metadata": {},
   "outputs": [
    {
     "name": "stdout",
     "output_type": "stream",
     "text": [
      "55/55 [==============================] - 42s 776ms/step - loss: 0.3186 - acc: 0.8858\n"
     ]
    },
    {
     "data": {
      "text/plain": [
       "[0.3185512125492096, 0.8858131766319275]"
      ]
     },
     "execution_count": 65,
     "metadata": {},
     "output_type": "execute_result"
    }
   ],
   "source": [
    "model.evaluate(test_generator)"
   ]
  },
  {
   "cell_type": "code",
   "execution_count": 29,
   "id": "1c9ed653",
   "metadata": {},
   "outputs": [],
   "source": [
    "model.save('final_exp_project.keras')"
   ]
  }
 ],
 "metadata": {
  "kernelspec": {
   "display_name": "Python 3 (ipykernel)",
   "language": "python",
   "name": "python3"
  },
  "language_info": {
   "codemirror_mode": {
    "name": "ipython",
    "version": 3
   },
   "file_extension": ".py",
   "mimetype": "text/x-python",
   "name": "python",
   "nbconvert_exporter": "python",
   "pygments_lexer": "ipython3",
   "version": "3.9.18"
  }
 },
 "nbformat": 4,
 "nbformat_minor": 5
}
