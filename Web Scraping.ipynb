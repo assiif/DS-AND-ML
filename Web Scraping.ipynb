{
 "cells": [
  {
   "cell_type": "code",
   "execution_count": 8,
   "id": "4a0a3d12",
   "metadata": {},
   "outputs": [
    {
     "name": "stdout",
     "output_type": "stream",
     "text": [
      "<html>\r\n",
      "<head><title>403 Forbidden</title></head>\r\n",
      "<body>\r\n",
      "<center><h1>403 Forbidden</h1></center>\r\n",
      "</body>\r\n",
      "</html>\r\n",
      "\n"
     ]
    }
   ],
   "source": [
    "import requests\n",
    "\n",
    "url='https://www.imdb.com/name/nm0000129/?ref_=nv_sr_srsg_0_tt_4_nm_4_q_tom%2520cru'\n",
    "r=requests.get(url)\n",
    "print(r.text)"
   ]
  },
  {
   "cell_type": "code",
   "execution_count": null,
   "id": "53722bc2",
   "metadata": {},
   "outputs": [],
   "source": [
    "import requests\n",
    "from bs4 import BeautifulSoup\n",
    "\n",
    "def get_filmography(actor_name):\n",
    "    base_url = 'https://www.imdb.com'\n",
    "    search_url = f'{base_url}/find?q={actor_name}&s=nm'\n",
    "\n",
    "    # Send a request to the search page\n",
    "    response = requests.get(search_url)\n",
    "    soup = BeautifulSoup(response.text, 'html.parser')\n",
    "\n",
    "    # Extract the link to the actor's page\n",
    "    result_text = soup.find('td', class_='result_text')\n",
    "    if result_text:\n",
    "        actor_page_link = result_text.find('a')['href']\n",
    "    else:\n",
    "        print(f'No results found for {actor_name}')\n",
    "        return []\n",
    "\n",
    "    # Construct the URL for the actor's page\n",
    "    actor_url = f'{base_url}{actor_page_link}'\n",
    "\n",
    "    # Send a request to the actor's page\n",
    "    response = requests.get(actor_url)\n",
    "    soup = BeautifulSoup(response.text, 'html.parser')\n",
    "\n",
    "    # Extract filmography information\n",
    "    filmography = []\n",
    "    filmography_container = soup.find('div', class_='filmo-category-section')\n",
    "    if filmography_container:\n",
    "        title_elements = filmography_container.find_all('div', class_='filmo-row')\n",
    "        for title_element in title_elements:\n",
    "            title = title_element.find('a') or title_element.find('b')\n",
    "            if title:\n",
    "                filmography.append(title.get_text(strip=True))\n",
    "\n",
    "    return filmography\n",
    "\n",
    "if __name__ == '__main__':\n",
    "    actor_name = input('Enter the name of the actor: ')\n",
    "    filmography = get_filmography(actor_name)\n",
    "\n",
    "    if filmography:\n",
    "        print(f'\\nFilmography of {actor_name} in descending order:')\n",
    "        for i, film in enumerate(filmography, 1):\n",
    "            print(f'{i}. {film}')\n",
    "    else:\n",
    "        print(f'No filmography found for {actor_name}')"
   ]
  },
  {
   "cell_type": "code",
   "execution_count": null,
   "id": "199666bb",
   "metadata": {},
   "outputs": [],
   "source": []
  }
 ],
 "metadata": {
  "kernelspec": {
   "display_name": "Python 3 (ipykernel)",
   "language": "python",
   "name": "python3"
  },
  "language_info": {
   "codemirror_mode": {
    "name": "ipython",
    "version": 3
   },
   "file_extension": ".py",
   "mimetype": "text/x-python",
   "name": "python",
   "nbconvert_exporter": "python",
   "pygments_lexer": "ipython3",
   "version": "3.9.18"
  }
 },
 "nbformat": 4,
 "nbformat_minor": 5
}
